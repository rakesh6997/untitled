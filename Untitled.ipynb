{
 "cells": [
  {
   "cell_type": "code",
   "execution_count": 2,
   "metadata": {},
   "outputs": [
    {
     "name": "stdout",
     "output_type": "stream",
     "text": [
      "johnrakesh\n"
     ]
    }
   ],
   "source": [
    "x=\"john\"\n",
    "y=\"rakesh\"\n",
    "z=x+y\n",
    "print(z)"
   ]
  },
  {
   "cell_type": "code",
   "execution_count": 3,
   "metadata": {},
   "outputs": [
    {
     "name": "stdout",
     "output_type": "stream",
     "text": [
      "orange orange orange\n"
     ]
    }
   ],
   "source": [
    "x=y=z=\"orange\"\n",
    "print(x,y,z)"
   ]
  },
  {
   "cell_type": "code",
   "execution_count": 9,
   "metadata": {},
   "outputs": [
    {
     "name": "stdout",
     "output_type": "stream",
     "text": [
      "the permanent number is hawle\n"
     ]
    }
   ],
   "source": [
    "x=\"hawle\"\n",
    "def rakesh():\n",
    "    print(\"the permanent number is \" + x)   \n",
    "rakesh()"
   ]
  },
  {
   "cell_type": "code",
   "execution_count": 13,
   "metadata": {},
   "outputs": [
    {
     "name": "stdout",
     "output_type": "stream",
     "text": [
      "<class 'int'>\n",
      "<class 'float'>\n",
      "<class 'complex'>\n",
      "7.0\n",
      "8\n",
      "7j\n"
     ]
    }
   ],
   "source": [
    "x=7\n",
    "y=8.9\n",
    "z=7j\n",
    "print(type(x))\n",
    "print(type(y))\n",
    "print(type(z))\n",
    "a=float(x)\n",
    "b=int(y)\n",
    "c=complex(z)\n",
    "print(a)\n",
    "print(b)\n",
    "print(c)"
   ]
  },
  {
   "cell_type": "code",
   "execution_count": 22,
   "metadata": {},
   "outputs": [
    {
     "name": "stdout",
     "output_type": "stream",
     "text": [
      "47\n"
     ]
    }
   ],
   "source": [
    "import random\n",
    "print(random.randrange(1,100))"
   ]
  },
  {
   "cell_type": "code",
   "execution_count": 27,
   "metadata": {},
   "outputs": [
    {
     "name": "stdout",
     "output_type": "stream",
     "text": [
      "2 7 3\n"
     ]
    }
   ],
   "source": [
    "x=int(2.6)\n",
    "y=int(7)\n",
    "z=int(3.8)\n",
    "print(x,y,z)"
   ]
  },
  {
   "cell_type": "code",
   "execution_count": 29,
   "metadata": {},
   "outputs": [
    {
     "name": "stdout",
     "output_type": "stream",
     "text": [
      "rakesh john rahul\n"
     ]
    }
   ],
   "source": [
    "x=str(\"rakesh\")\n",
    "y=str(\"john\")\n",
    "z=str(\"rahul\")\n",
    "print(x,y,z)"
   ]
  },
  {
   "cell_type": "code",
   "execution_count": 30,
   "metadata": {},
   "outputs": [
    {
     "name": "stdout",
     "output_type": "stream",
     "text": [
      "hello world\n",
      "hello world\n"
     ]
    }
   ],
   "source": [
    "print(\"hello world\")\n",
    "print('hello world')"
   ]
  },
  {
   "cell_type": "code",
   "execution_count": 31,
   "metadata": {},
   "outputs": [
    {
     "name": "stdout",
     "output_type": "stream",
     "text": [
      "john\n"
     ]
    }
   ],
   "source": [
    "a=\"john\"\n",
    "print(a)"
   ]
  },
  {
   "cell_type": "code",
   "execution_count": 32,
   "metadata": {},
   "outputs": [
    {
     "name": "stdout",
     "output_type": "stream",
     "text": [
      "nikhil\n"
     ]
    }
   ],
   "source": [
    "x=\"nikhil\"\n",
    "print(x)"
   ]
  },
  {
   "cell_type": "code",
   "execution_count": 50,
   "metadata": {},
   "outputs": [
    {
     "name": "stdout",
     "output_type": "stream",
     "text": [
      "5 is a prime number\n"
     ]
    }
   ],
   "source": [
    "#prime or not\n",
    "num=5\n",
    "if x>1:\n",
    "    for i in range(2,num-1):\n",
    "        if (num%i)==0:\n",
    "            print(num,\"is not a prime number\")\n",
    "            break\n",
    "    else:\n",
    "        print(num,\"is a prime number\")"
   ]
  },
  {
   "cell_type": "code",
   "execution_count": 42,
   "metadata": {},
   "outputs": [
    {
     "name": "stdout",
     "output_type": "stream",
     "text": [
      "65\n",
      "2\n",
      "96\n",
      "96\n",
      "C:\\Users\\Rakesh\\Anaconda3\\lib\\site-packages\\ipykernel_launcher.py\n"
     ]
    }
   ],
   "source": [
    "#command line arguments\n",
    "import sys\n",
    "\n",
    "lst=sys.argv\n",
    "for i in lst:print(len(i))\n",
    "print(len(i))\n",
    "print(lst[0])\n",
    "\n",
    "\n"
   ]
  },
  {
   "cell_type": "code",
   "execution_count": 56,
   "metadata": {},
   "outputs": [
    {
     "name": "stdout",
     "output_type": "stream",
     "text": [
      "average of two numbers 15.0\n"
     ]
    }
   ],
   "source": [
    "#functions in average function demo\n",
    "def average(num1,num2):\n",
    "    print(\"average of two numbers\",(num1+num2)/2)\n",
    "average(10,20)"
   ]
  },
  {
   "cell_type": "code",
   "execution_count": 63,
   "metadata": {},
   "outputs": [
    {
     "name": "stdout",
     "output_type": "stream",
     "text": [
      "15.0\n"
     ]
    }
   ],
   "source": [
    "#using return\n",
    "def average(num1,num2):\n",
    "    return (num1+num2)/2\n",
    "print(average(10,20))"
   ]
  },
  {
   "cell_type": "code",
   "execution_count": 66,
   "metadata": {},
   "outputs": [
    {
     "name": "stdout",
     "output_type": "stream",
     "text": [
      "(15, 10, 150, 1.5)\n",
      "15\n",
      "10\n",
      "150\n",
      "1.5\n"
     ]
    }
   ],
   "source": [
    "#using multiple values\n",
    "def calc(x,y):\n",
    "    x=x+y\n",
    "    y=x-y\n",
    "    z=x*y\n",
    "    u=x/y\n",
    "    return x,y,z,u\n",
    "result=calc(10,5)\n",
    "print(result)\n",
    "for i in result:\n",
    "    print(i)\n",
    "    "
   ]
  },
  {
   "cell_type": "code",
   "execution_count": 72,
   "metadata": {},
   "outputs": [
    {
     "name": "stdout",
     "output_type": "stream",
     "text": [
      "123\n",
      "678\n"
     ]
    }
   ],
   "source": [
    "#local and global variables\n",
    "x=123\n",
    "def display():\n",
    "    y=678\n",
    "    print(y)\n",
    "print(x)\n",
    "display()\n"
   ]
  },
  {
   "cell_type": "code",
   "execution_count": 73,
   "metadata": {},
   "outputs": [
    {
     "name": "stdout",
     "output_type": "stream",
     "text": [
      "123\n",
      "678\n",
      "123\n"
     ]
    }
   ],
   "source": [
    "x=123\n",
    "def display():\n",
    "    x=678\n",
    "    print(x)\n",
    "    print(globals()['x'])\n",
    "print(x)\n",
    "display()\n"
   ]
  },
  {
   "cell_type": "code",
   "execution_count": 79,
   "metadata": {},
   "outputs": [
    {
     "name": "stdout",
     "output_type": "stream",
     "text": [
      "Hello bharath\n"
     ]
    }
   ],
   "source": [
    "#greeting\n",
    "def display(name):\n",
    "    def message():\n",
    "        return \"Hello \"\n",
    "    result=message()+name\n",
    "    return result\n",
    "print(display(\"bharath\"))"
   ]
  },
  {
   "cell_type": "code",
   "execution_count": 84,
   "metadata": {},
   "outputs": [
    {
     "name": "stdout",
     "output_type": "stream",
     "text": [
      "Hello \n"
     ]
    }
   ],
   "source": [
    "#return function\n",
    "def display():\n",
    "    def message():\n",
    "        return \"Hello \"\n",
    "    return message\n",
    "fun=display()\n",
    "print(fun())"
   ]
  },
  {
   "cell_type": "code",
   "execution_count": 86,
   "metadata": {},
   "outputs": [
    {
     "name": "stdout",
     "output_type": "stream",
     "text": [
      "1\n",
      "2\n",
      "3\n",
      "4\n"
     ]
    }
   ],
   "source": [
    "#list\n",
    "def fun(lst):\n",
    "    for i in lst:\n",
    "        print(i)\n",
    "fun([1,2,3,4])"
   ]
  },
  {
   "cell_type": "code",
   "execution_count": 90,
   "metadata": {},
   "outputs": [
    {
     "name": "stdout",
     "output_type": "stream",
     "text": [
      "120\n"
     ]
    }
   ],
   "source": [
    "#factorial\n",
    "def factorial(n):\n",
    "    if n==0:\n",
    "        result=1\n",
    "    else:\n",
    "        result=n*factorial(n-1)\n",
    "    return result\n",
    "print(factorial(5))"
   ]
  },
  {
   "cell_type": "code",
   "execution_count": 96,
   "metadata": {},
   "outputs": [
    {
     "name": "stdout",
     "output_type": "stream",
     "text": [
      "8\n"
     ]
    }
   ],
   "source": [
    "#cube lambda\n",
    "'''def cube(n):\n",
    "    return n**3\n",
    "cube(2)'''\n",
    "f=lambda n:n**3\n",
    "print(f(2))"
   ]
  },
  {
   "cell_type": "code",
   "execution_count": 97,
   "metadata": {},
   "outputs": [
    {
     "name": "stdout",
     "output_type": "stream",
     "text": [
      "yes\n",
      "No\n"
     ]
    }
   ],
   "source": [
    "#even or odd lambda\n",
    "l=lambda x:'yes'if x%2==0 else 'No'\n",
    "print(l(10))\n",
    "print(l(9))"
   ]
  },
  {
   "cell_type": "code",
   "execution_count": 103,
   "metadata": {},
   "outputs": [
    {
     "name": "stdout",
     "output_type": "stream",
     "text": [
      "30\n"
     ]
    }
   ],
   "source": [
    "#sum by lambda\n",
    "'''def add(a,b):\n",
    "    return a+b\n",
    "print(add(10,20))'''\n",
    "l=lambda a,b:a+b\n",
    "print(l(10,20))"
   ]
  },
  {
   "cell_type": "code",
   "execution_count": 108,
   "metadata": {},
   "outputs": [
    {
     "name": "stdout",
     "output_type": "stream",
     "text": [
      "[10, 2, 2]\n",
      "10\n",
      "2\n",
      "2\n"
     ]
    }
   ],
   "source": [
    "#even or odd filter\n",
    "lst=[10,2,33,45,89,2]\n",
    "result=list(filter(lambda x:x%2==0,lst))\n",
    "print(result)\n",
    "for i in result:\n",
    "    print(i)"
   ]
  },
  {
   "cell_type": "code",
   "execution_count": 109,
   "metadata": {},
   "outputs": [
    {
     "name": "stdout",
     "output_type": "stream",
     "text": [
      "[4, 6, 8, 10]\n"
     ]
    }
   ],
   "source": [
    "#dobule using map\n",
    "lst=[2,3,4,5]\n",
    "result=list(map(lambda n:n*2,lst))\n",
    "print(result)"
   ]
  },
  {
   "cell_type": "code",
   "execution_count": 111,
   "metadata": {},
   "outputs": [
    {
     "name": "stdout",
     "output_type": "stream",
     "text": [
      "50\n"
     ]
    }
   ],
   "source": [
    "#sum using reduce\n",
    "from functools import reduce\n",
    "lst=[5,10,15,20]\n",
    "result=reduce(lambda x,y:x+y,lst)\n",
    "print(result)\n"
   ]
  },
  {
   "cell_type": "code",
   "execution_count": 113,
   "metadata": {},
   "outputs": [
    {
     "name": "stdout",
     "output_type": "stream",
     "text": [
      "100\n"
     ]
    }
   ],
   "source": [
    "#double decorator\n",
    "def decor(fun):\n",
    "    def inner():\n",
    "        reult=fun()\n",
    "        return result*2\n",
    "    return inner\n",
    "def num():\n",
    "    return 5\n",
    "resultfun=decor(num)\n",
    "print(resultfun())"
   ]
  },
  {
   "cell_type": "code",
   "execution_count": null,
   "metadata": {},
   "outputs": [],
   "source": []
  }
 ],
 "metadata": {
  "kernelspec": {
   "display_name": "Python 3",
   "language": "python",
   "name": "python3"
  },
  "language_info": {
   "codemirror_mode": {
    "name": "ipython",
    "version": 3
   },
   "file_extension": ".py",
   "mimetype": "text/x-python",
   "name": "python",
   "nbconvert_exporter": "python",
   "pygments_lexer": "ipython3",
   "version": "3.7.3"
  }
 },
 "nbformat": 4,
 "nbformat_minor": 2
}
